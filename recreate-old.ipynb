{
 "cells": [
  {
   "cell_type": "code",
   "execution_count": 1,
   "metadata": {},
   "outputs": [
    {
     "name": "stderr",
     "output_type": "stream",
     "text": [
      "Installing package into ‘/srv/rlibs’\n",
      "(as ‘lib’ is unspecified)\n",
      "── Attaching packages ─────────────────────────────────────── tidyverse 1.2.1 ──\n",
      "✔ ggplot2 2.2.1     ✔ purrr   0.2.4\n",
      "✔ tibble  1.4.2     ✔ dplyr   0.7.4\n",
      "✔ tidyr   0.8.0     ✔ stringr 1.3.1\n",
      "✔ readr   1.1.1     ✔ forcats 0.2.0\n",
      "── Conflicts ────────────────────────────────────────── tidyverse_conflicts() ──\n",
      "✖ dplyr::filter() masks stats::filter()\n",
      "✖ dplyr::lag()    masks stats::lag()\n"
     ]
    }
   ],
   "source": [
    "install.packages(\"readxl\")\n",
    "library(\"readxl\")\n",
    "library(tidyverse)"
   ]
  },
  {
   "cell_type": "code",
   "execution_count": 2,
   "metadata": {},
   "outputs": [
    {
     "ename": "ERROR",
     "evalue": "Error: Missing file extension.\n",
     "output_type": "error",
     "traceback": [
      "Error: Missing file extension.\nTraceback:\n",
      "1. read_excel(\"https://elifesciences.org/download/aHR0cHM6Ly9jZG4uZWxpZmVzY2llbmNlcy5vcmcvYXJ0aWNsZXMvMjk5NDQvZWxpZmUtMjk5NDQtZmlnMi1kYXRhMS12MS54bHN4/elife-29944-fig2-data1-v1.xlsx?_hash=NNWDxmB6zsplciK4qaEdAJdGCs0Su%2BH5qUcNOyutaz0%3D\")",
      "2. read_excel_(path = path, sheet = sheet, range = range, col_names = col_names, \n .     col_types = col_types, na = na, trim_ws = trim_ws, skip = skip, \n .     n_max = n_max, guess_max = guess_max, excel_format(path))",
      "3. excel_format(path)",
      "4. stop(\"Missing file extension.\", call. = FALSE)"
     ]
    }
   ],
   "source": [
    "data = read_excel(\"fig2-data1.xlsx\")\n",
    "#data = read_excel(\"https://elifesciences.org/download/aHR0cHM6Ly9jZG4uZWxpZmVzY2llbmNlcy5vcmcvYXJ0aWNsZXMvMjk5NDQvZWxpZmUtMjk5NDQtZmlnMi1kYXRhMS12MS54bHN4/elife-29944-fig2-data1-v1.xlsx?_hash=NNWDxmB6zsplciK4qaEdAJdGCs0Su%2BH5qUcNOyutaz0%3D\")"
   ]
  },
  {
   "cell_type": "code",
   "execution_count": null,
   "metadata": {},
   "outputs": [],
   "source": [
    "# install.packages(\"readxl\")\n",
    "library(\"readxl\")\n",
    "library(tidyverse)\n",
    "\n",
    "data = read_excel(\"fig2-data1.xlsx\")\n",
    "\n",
    "# meta = filter(data, Taxon == 'Equus hemionus' | Taxon == 'francisci type' |\n",
    "#                 Taxon == 'Equus caballus' | Taxon == 'Equus lambei' | Taxon == 'Equus cf. scotti')\n",
    "\n",
    "meta = data[,c(1,8:18)]\n",
    "\n",
    "# meta = drop_na(meta)\n",
    "meta = na.omit(meta)\n",
    "# meta = meta[-c(13,27, 31),]\n",
    "# meta = meta[-13,]\n",
    "# meta = meta[-26,]\n",
    "# meta = meta[-30,]\n",
    "\n",
    "\n",
    "meta$`GL: Greatest Length` = as.double(meta$`GL: Greatest Length`)\n",
    "meta$`Pb: Proximal Breadth` = as.double(meta$`Pb: Proximal Breadth`)\n",
    "meta$`Dp: Proximal depth` = as.double(meta$`Dp: Proximal depth`)\n",
    "meta$`SD: Midshaft breadth` = as.double(meta$`SD: Midshaft breadth`)\n",
    "meta$`Midshaft depth (#4)` = as.double(meta$`Midshaft depth (#4)`)\n",
    "meta$`Distal articular breadth at midline (#11)` = as.double(meta$`Distal articular breadth at midline (#11)`)\n",
    "meta$`Distal metaphyseal breadth (#10)` = as.double(meta$`Distal metaphyseal breadth (#10)`)\n",
    "meta$`Maximum depth of distal \"keel\" (#12)` = as.double(meta$`Maximum depth of distal \"keel\" (#12)`)\n",
    "meta$`Minimum depth of medial condyle` = as.double(meta$`Minimum depth of medial condyle`)\n",
    "meta$`Maximum depth of medial condyle (#14)` = as.double(meta$`Maximum depth of medial condyle (#14)`)\n",
    "\n",
    "Taxon = meta$Taxon\n",
    "Iden =meta$`Identification based on`\n",
    "meta = meta[2:11]\n",
    "\n",
    "meta4 = meta[,1:4]\n",
    "# metaR = meta[,5:10]\n",
    "\n",
    "# meta = na.omit(meta)\n",
    "meta4 = as.matrix(meta4)\n",
    "\n",
    " f1 <- function(vec) {\n",
    "   m <- mean(vec, na.rm = TRUE)\n",
    "   vec[is.na(vec)] <- m\n",
    "   return(vec)\n",
    " }\n",
    "\n",
    "meta4 = apply(meta4,2,f1)\n",
    "\n",
    "\n",
    "# metaPC = prcomp(~'GL: Greatest Length'+'Pb: Proximal Breadt'+'Dp: Proximal depth'+'SD: Midshaft breadth',meta4, na.action = na.omit)\n",
    "# metaPC = prcomp(na.omit(meta4))\n",
    "metaPC = prcomp(meta4)\n",
    "meta3 =  as.tibble(metaPC$x)\n",
    "meta3 = mutate(meta3, Taxon=Taxon, `Identification Method`=Iden)\n",
    "\n",
    "g = ggplot(meta3, aes(x=PC1, y=PC2, color=Taxon, shape=`Identification Method`)) +\n",
    "  geom_point() + theme_bw() + xlab(\"Principle Component 1\") + ylab(\"Principle Component 2\") \n",
    "\n",
    "ggsave(\"graph.pdf\")"
   ]
  }
 ],
 "metadata": {
  "kernelspec": {
   "display_name": "R",
   "language": "R",
   "name": "ir"
  },
  "language_info": {
   "codemirror_mode": "r",
   "file_extension": ".r",
   "mimetype": "text/x-r-source",
   "name": "R",
   "pygments_lexer": "r",
   "version": "3.4.4"
  }
 },
 "nbformat": 4,
 "nbformat_minor": 2
}
